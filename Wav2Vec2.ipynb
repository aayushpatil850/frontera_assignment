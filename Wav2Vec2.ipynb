{
 "cells": [
  {
   "cell_type": "code",
   "execution_count": 28,
   "metadata": {},
   "outputs": [
    {
     "name": "stdout",
     "output_type": "stream",
     "text": [
      "Preprocessing complete! Files saved in /home/aayushjeevan/Desktop/FRONTERA/cry_processed\n"
     ]
    }
   ],
   "source": [
    "import os\n",
    "import librosa\n",
    "import soundfile as sf\n",
    "import pandas as pd\n",
    "\n",
    "# Define input and output paths\n",
    "input_folder = '/home/aayushjeevan/Desktop/FRONTERA/donateacry_corpus'\n",
    "output_folder = '/home/aayushjeevan/Desktop/FRONTERA/cry_processed'\n",
    "os.makedirs(output_folder, exist_ok=True)\n",
    "\n",
    "# Sampling rate and bit depth\n",
    "target_sr = 16000  # 16kHz sampling rate\n",
    "\n",
    "# Prepare labels list\n",
    "data = []\n",
    "\n",
    "# Function to process audio files\n",
    "def preprocess_audio(file_path, output_path, label='crying'):\n",
    "    # Load audio file\n",
    "    audio, sr = librosa.load(file_path, sr=target_sr, mono=True)\n",
    "    # Save the preprocessed audio\n",
    "    sf.write(output_path, audio, target_sr)\n",
    "    # Append file and label\n",
    "    data.append({'file': output_path, 'label': label})\n",
    "\n",
    "# Traverse folders and process files\n",
    "for root, _, files in os.walk(input_folder):\n",
    "    for file in files:\n",
    "        if file.endswith('.wav'):\n",
    "            input_file = os.path.join(root, file)\n",
    "            output_file = os.path.join(output_folder, file)\n",
    "            preprocess_audio(input_file, output_file)\n",
    "\n",
    "# Save labels to CSV\n",
    "labels_df = pd.DataFrame(data)\n",
    "labels_df.to_csv(os.path.join(output_folder, 'labels.csv'), index=False)\n",
    "\n",
    "print(f\"Preprocessing complete! Files saved in {output_folder}\")\n"
   ]
  },
  {
   "cell_type": "code",
   "execution_count": 29,
   "metadata": {},
   "outputs": [],
   "source": [
    "import os\n",
    "import librosa\n",
    "import soundfile as sf\n",
    "import pandas as pd\n",
    "\n",
    "# Define input and output paths\n",
    "input_folder = '/home/aayushjeevan/Desktop/FRONTERA/archive3'\n",
    "scream_output_folder = '/home/aayushjeevan/Desktop/FRONTERA/scream_processed'\n",
    "normal_output_folder = '/home/aayushjeevan/Desktop/FRONTERA/normal_processed'\n",
    "os.makedirs(scream_output_folder, exist_ok=True)\n",
    "os.makedirs(normal_output_folder, exist_ok=True)\n",
    "\n",
    "# Sampling rate and bit depth\n",
    "target_sr = 16000  # 16kHz sampling rate\n",
    "\n",
    "# Prepare labels list\n",
    "data = []\n",
    "\n",
    "# Function to process audio files\n",
    "def preprocess_audio(file_path, output_path, label):\n",
    "    # Load audio file\n",
    "    audio, sr = librosa.load(file_path, sr=target_sr, mono=True)\n",
    "    # Save the preprocessed audio\n",
    "    sf.write(output_path, audio, target_sr)\n",
    "    # Append file and label\n",
    "    data.append({'file': output_path, 'label': label})\n",
    "\n",
    "# Traverse only Screaming and NotScreaming folders\n",
    "screaming_folder = os.path.join(input_folder, 'Screaming')\n",
    "notscreaming_folder = os.path.join(input_folder, 'NotScreaming')\n",
    "\n",
    "for file in os.listdir(screaming_folder):\n",
    "    if file.endswith('.wav'):\n",
    "        input_file = os.path.join(screaming_folder, file)\n",
    "        output_file = os.path.join(scream_output_folder, file)\n",
    "        preprocess_audio(input_file, output_file, 'screaming')\n",
    "\n",
    "for file in os.listdir(notscreaming_folder):\n",
    "    if file.endswith('.wav'):\n",
    "        input_file = os.path.join(notscreaming_folder, file)\n",
    "        output_file = os.path.join(normal_output_folder, file)\n",
    "        preprocess_audio(input_file, output_file, 'normal')\n",
    "\n",
    "# Append labels to existing CSV\n",
    "labels_csv_path = '/home/aayushjeevan/Desktop/FRONTERA/cry_processed/labels.csv'\n",
    "if os.path.exists(labels_csv_path):\n",
    "    existing_labels_df = pd.read_csv(labels_csv_path)\n",
    "    labels_df = pd.DataFrame(data)\n",
    "    combined_labels_df = pd.concat([existing_labels_df, labels_df], ignore_index=True)\n",
    "    combined_labels_df.to_csv(labels_csv_path, index=False)\n",
    "else:\n",
    "    labels_df = pd.DataFrame(data)\n",
    "    labels_df.to_csv(labels_csv_path, index=False)\n",
    "\n"
   ]
  },
  {
   "cell_type": "code",
   "execution_count": 30,
   "metadata": {},
   "outputs": [
    {
     "data": {
      "application/vnd.jupyter.widget-view+json": {
       "model_id": "2376e16b43464c52a36d5f70db0a7830",
       "version_major": 2,
       "version_minor": 0
      },
      "text/plain": [
       "Map:   0%|          | 0/2765 [00:00<?, ? examples/s]"
      ]
     },
     "metadata": {},
     "output_type": "display_data"
    },
    {
     "data": {
      "application/vnd.jupyter.widget-view+json": {
       "model_id": "2028731791214d3e931a571ceb809c2d",
       "version_major": 2,
       "version_minor": 0
      },
      "text/plain": [
       "Map:   0%|          | 0/592 [00:00<?, ? examples/s]"
      ]
     },
     "metadata": {},
     "output_type": "display_data"
    },
    {
     "data": {
      "application/vnd.jupyter.widget-view+json": {
       "model_id": "5b9154eac2664ec3855db13624ab72dc",
       "version_major": 2,
       "version_minor": 0
      },
      "text/plain": [
       "Map:   0%|          | 0/593 [00:00<?, ? examples/s]"
      ]
     },
     "metadata": {},
     "output_type": "display_data"
    },
    {
     "name": "stdout",
     "output_type": "stream",
     "text": [
      "Dataset({\n",
      "    features: ['file', 'label', '__index_level_0__', 'array', 'sampling_rate'],\n",
      "    num_rows: 2765\n",
      "}) Dataset({\n",
      "    features: ['file', 'label', '__index_level_0__', 'array', 'sampling_rate'],\n",
      "    num_rows: 592\n",
      "}) Dataset({\n",
      "    features: ['file', 'label', '__index_level_0__', 'array', 'sampling_rate'],\n",
      "    num_rows: 593\n",
      "})\n"
     ]
    }
   ],
   "source": [
    "import pandas as pd\n",
    "import torchaudio\n",
    "import librosa\n",
    "import torch\n",
    "from datasets import Dataset\n",
    "from sklearn.model_selection import train_test_split\n",
    "\n",
    "# Load labels.csv\n",
    "labels_csv_path = '/home/aayushjeevan/Desktop/FRONTERA/cry_processed/labels.csv'\n",
    "df = pd.read_csv(labels_csv_path)\n",
    "\n",
    "# Ensure labels are consistent\n",
    "label_mapping = {'crying': 0, 'screaming': 1, 'normal': 2}\n",
    "df['label'] = df['label'].map(label_mapping)\n",
    "\n",
    "# Split into train/val/test (70/15/15)\n",
    "train_df, temp_df = train_test_split(df, test_size=0.3, stratify=df['label'], random_state=42)\n",
    "val_df, test_df = train_test_split(temp_df, test_size=0.5, stratify=temp_df['label'], random_state=42)\n",
    "\n",
    "# Convert to Hugging Face Dataset\n",
    "def load_audio_data(example):\n",
    "    file_path = os.path.join('/home/aayushjeevan/Desktop/FRONTERA/', example['file'])\n",
    "    audio, sr = librosa.load(file_path, sr=16000)\n",
    "    example['array'] = audio\n",
    "    example['sampling_rate'] = sr\n",
    "    return example\n",
    "\n",
    "train_ds = Dataset.from_pandas(train_df).map(load_audio_data)\n",
    "val_ds = Dataset.from_pandas(val_df).map(load_audio_data)\n",
    "test_ds = Dataset.from_pandas(test_df).map(load_audio_data)\n",
    "\n",
    "print(train_ds, val_ds, test_ds)\n"
   ]
  },
  {
   "cell_type": "code",
   "execution_count": 31,
   "metadata": {},
   "outputs": [
    {
     "name": "stderr",
     "output_type": "stream",
     "text": [
      "/home/aayushjeevan/anaconda3/lib/python3.12/site-packages/transformers/configuration_utils.py:306: UserWarning: Passing `gradient_checkpointing` to a config initialization is deprecated and will be removed in v5 Transformers. Using `model.gradient_checkpointing_enable()` instead, or if you are using the `Trainer` API, pass `gradient_checkpointing=True` in your `TrainingArguments`.\n",
      "  warnings.warn(\n"
     ]
    },
    {
     "data": {
      "application/vnd.jupyter.widget-view+json": {
       "model_id": "5e006bc99ef24ac6b06b1b7e1ab7d920",
       "version_major": 2,
       "version_minor": 0
      },
      "text/plain": [
       "Map:   0%|          | 0/2765 [00:00<?, ? examples/s]"
      ]
     },
     "metadata": {},
     "output_type": "display_data"
    },
    {
     "data": {
      "application/vnd.jupyter.widget-view+json": {
       "model_id": "e1c1eae1bbbf4b6a9f43fc6ce3e0cc4a",
       "version_major": 2,
       "version_minor": 0
      },
      "text/plain": [
       "Map:   0%|          | 0/592 [00:00<?, ? examples/s]"
      ]
     },
     "metadata": {},
     "output_type": "display_data"
    },
    {
     "data": {
      "application/vnd.jupyter.widget-view+json": {
       "model_id": "5636475e968644d0bbdaec13d9f7da55",
       "version_major": 2,
       "version_minor": 0
      },
      "text/plain": [
       "Map:   0%|          | 0/593 [00:00<?, ? examples/s]"
      ]
     },
     "metadata": {},
     "output_type": "display_data"
    }
   ],
   "source": [
    "from transformers import AutoProcessor\n",
    "\n",
    "processor = AutoProcessor.from_pretrained(\"facebook/wav2vec2-base\")\n",
    "\n",
    "def preprocess_function(examples):\n",
    "    inputs = processor(examples[\"array\"], sampling_rate=16000, padding=True, return_tensors=\"pt\")\n",
    "    return inputs\n",
    "\n",
    "train_ds = train_ds.map(preprocess_function, remove_columns=[\"file\", \"array\", \"sampling_rate\"])\n",
    "val_ds = val_ds.map(preprocess_function, remove_columns=[\"file\", \"array\", \"sampling_rate\"])\n",
    "test_ds = test_ds.map(preprocess_function, remove_columns=[\"file\", \"array\", \"sampling_rate\"])\n"
   ]
  },
  {
   "cell_type": "code",
   "execution_count": 32,
   "metadata": {},
   "outputs": [
    {
     "name": "stderr",
     "output_type": "stream",
     "text": [
      "Some weights of Wav2Vec2ForSequenceClassification were not initialized from the model checkpoint at facebook/wav2vec2-base and are newly initialized: ['classifier.bias', 'classifier.weight', 'projector.bias', 'projector.weight']\n",
      "You should probably TRAIN this model on a down-stream task to be able to use it for predictions and inference.\n"
     ]
    }
   ],
   "source": [
    "from transformers import AutoModelForAudioClassification\n",
    "\n",
    "model = AutoModelForAudioClassification.from_pretrained(\n",
    "    \"facebook/wav2vec2-base\",\n",
    "    num_labels=3,\n",
    "    label2id={label: i for i, label in enumerate(['crying', 'screaming', 'normal'])},\n",
    "    id2label={i: label for i, label in enumerate(['crying', 'screaming', 'normal'])}\n",
    ")\n",
    "\n",
    "model.config.classifier_dropout = 0.3  # Reduce overfitting\n"
   ]
  },
  {
   "cell_type": "code",
   "execution_count": 33,
   "metadata": {},
   "outputs": [
    {
     "name": "stderr",
     "output_type": "stream",
     "text": [
      "/home/aayushjeevan/anaconda3/lib/python3.12/site-packages/transformers/training_args.py:1568: FutureWarning: `evaluation_strategy` is deprecated and will be removed in version 4.46 of 🤗 Transformers. Use `eval_strategy` instead\n",
      "  warnings.warn(\n",
      "/tmp/ipykernel_954358/2282971703.py:65: FutureWarning: `tokenizer` is deprecated and will be removed in version 5.0.0 for `Trainer.__init__`. Use `processing_class` instead.\n",
      "  trainer = Trainer(\n"
     ]
    },
    {
     "data": {
      "application/vnd.jupyter.widget-view+json": {
       "model_id": "ee694f083e174bca96657163d47a8986",
       "version_major": 2,
       "version_minor": 0
      },
      "text/plain": [
       "  0%|          | 0/3460 [00:00<?, ?it/s]"
      ]
     },
     "metadata": {},
     "output_type": "display_data"
    },
    {
     "name": "stdout",
     "output_type": "stream",
     "text": [
      "{'loss': 0.9919, 'grad_norm': 3.0176048278808594, 'learning_rate': 1.994219653179191e-05, 'epoch': 0.03}\n",
      "{'loss': 0.877, 'grad_norm': 2.9312586784362793, 'learning_rate': 1.9884393063583815e-05, 'epoch': 0.06}\n",
      "{'loss': 0.7791, 'grad_norm': 1.384385585784912, 'learning_rate': 1.9826589595375726e-05, 'epoch': 0.09}\n",
      "{'loss': 0.6978, 'grad_norm': 15.380253791809082, 'learning_rate': 1.9768786127167633e-05, 'epoch': 0.12}\n",
      "{'loss': 0.8016, 'grad_norm': 5.750753879547119, 'learning_rate': 1.971098265895954e-05, 'epoch': 0.14}\n",
      "{'loss': 0.686, 'grad_norm': 2.543133497238159, 'learning_rate': 1.9653179190751446e-05, 'epoch': 0.17}\n",
      "{'loss': 0.7201, 'grad_norm': 3.1257357597351074, 'learning_rate': 1.9595375722543353e-05, 'epoch': 0.2}\n",
      "{'loss': 0.5786, 'grad_norm': 6.135426998138428, 'learning_rate': 1.9537572254335264e-05, 'epoch': 0.23}\n",
      "{'loss': 0.5225, 'grad_norm': 3.946971893310547, 'learning_rate': 1.947976878612717e-05, 'epoch': 0.26}\n",
      "{'loss': 0.6454, 'grad_norm': 6.053271770477295, 'learning_rate': 1.9421965317919077e-05, 'epoch': 0.29}\n",
      "{'loss': 0.5687, 'grad_norm': 1.5652762651443481, 'learning_rate': 1.9364161849710984e-05, 'epoch': 0.32}\n",
      "{'loss': 0.5151, 'grad_norm': 7.480730056762695, 'learning_rate': 1.930635838150289e-05, 'epoch': 0.35}\n",
      "{'loss': 0.5451, 'grad_norm': 4.713036060333252, 'learning_rate': 1.9248554913294798e-05, 'epoch': 0.38}\n",
      "{'loss': 0.4967, 'grad_norm': 2.5320727825164795, 'learning_rate': 1.9190751445086705e-05, 'epoch': 0.4}\n",
      "{'loss': 0.5766, 'grad_norm': 40.27922439575195, 'learning_rate': 1.9132947976878615e-05, 'epoch': 0.43}\n",
      "{'loss': 0.585, 'grad_norm': 9.593137741088867, 'learning_rate': 1.9075144508670522e-05, 'epoch': 0.46}\n",
      "{'loss': 0.54, 'grad_norm': 24.545124053955078, 'learning_rate': 1.901734104046243e-05, 'epoch': 0.49}\n",
      "{'loss': 0.4827, 'grad_norm': 18.483882904052734, 'learning_rate': 1.8959537572254336e-05, 'epoch': 0.52}\n",
      "{'loss': 0.4451, 'grad_norm': 18.806312561035156, 'learning_rate': 1.8901734104046246e-05, 'epoch': 0.55}\n",
      "{'loss': 0.5501, 'grad_norm': 9.17075252532959, 'learning_rate': 1.8843930635838153e-05, 'epoch': 0.58}\n",
      "{'loss': 0.5548, 'grad_norm': 2.7941558361053467, 'learning_rate': 1.878612716763006e-05, 'epoch': 0.61}\n",
      "{'loss': 0.4404, 'grad_norm': 7.4231061935424805, 'learning_rate': 1.8728323699421967e-05, 'epoch': 0.64}\n",
      "{'loss': 0.4966, 'grad_norm': 14.58963680267334, 'learning_rate': 1.8670520231213874e-05, 'epoch': 0.66}\n",
      "{'loss': 0.429, 'grad_norm': 13.117772102355957, 'learning_rate': 1.8612716763005784e-05, 'epoch': 0.69}\n",
      "{'loss': 0.5487, 'grad_norm': 15.192198753356934, 'learning_rate': 1.855491329479769e-05, 'epoch': 0.72}\n",
      "{'loss': 0.4506, 'grad_norm': 1.9960838556289673, 'learning_rate': 1.8497109826589598e-05, 'epoch': 0.75}\n",
      "{'loss': 0.4767, 'grad_norm': 3.0285282135009766, 'learning_rate': 1.8439306358381505e-05, 'epoch': 0.78}\n",
      "{'loss': 0.5761, 'grad_norm': 6.524473667144775, 'learning_rate': 1.838150289017341e-05, 'epoch': 0.81}\n",
      "{'loss': 0.5205, 'grad_norm': 36.2209358215332, 'learning_rate': 1.832369942196532e-05, 'epoch': 0.84}\n",
      "{'loss': 0.5032, 'grad_norm': 77.5959243774414, 'learning_rate': 1.8265895953757225e-05, 'epoch': 0.87}\n",
      "{'loss': 0.394, 'grad_norm': 9.867042541503906, 'learning_rate': 1.8208092485549132e-05, 'epoch': 0.9}\n",
      "{'loss': 0.4658, 'grad_norm': 3.254100799560547, 'learning_rate': 1.8150289017341043e-05, 'epoch': 0.92}\n",
      "{'loss': 0.4938, 'grad_norm': 11.2996187210083, 'learning_rate': 1.809248554913295e-05, 'epoch': 0.95}\n",
      "{'loss': 0.3826, 'grad_norm': 13.348151206970215, 'learning_rate': 1.8034682080924856e-05, 'epoch': 0.98}\n"
     ]
    },
    {
     "data": {
      "application/vnd.jupyter.widget-view+json": {
       "model_id": "1b1645d6bbf64d66a67ea10fcf7b6515",
       "version_major": 2,
       "version_minor": 0
      },
      "text/plain": [
       "  0%|          | 0/74 [00:00<?, ?it/s]"
      ]
     },
     "metadata": {},
     "output_type": "display_data"
    },
    {
     "name": "stdout",
     "output_type": "stream",
     "text": [
      "{'eval_loss': 0.43279391527175903, 'eval_accuracy': 0.8378378378378378, 'eval_runtime': 33.7751, 'eval_samples_per_second': 17.528, 'eval_steps_per_second': 2.191, 'epoch': 1.0}\n",
      "{'loss': 0.4068, 'grad_norm': 10.021428108215332, 'learning_rate': 1.7976878612716763e-05, 'epoch': 1.01}\n",
      "{'loss': 0.381, 'grad_norm': 1.472680687904358, 'learning_rate': 1.7919075144508673e-05, 'epoch': 1.04}\n",
      "{'loss': 0.3364, 'grad_norm': 58.81550216674805, 'learning_rate': 1.786127167630058e-05, 'epoch': 1.07}\n",
      "{'loss': 0.4112, 'grad_norm': 50.63368606567383, 'learning_rate': 1.7803468208092487e-05, 'epoch': 1.1}\n",
      "{'loss': 0.3415, 'grad_norm': 64.52495574951172, 'learning_rate': 1.7745664739884394e-05, 'epoch': 1.13}\n",
      "{'loss': 0.3994, 'grad_norm': 12.079900741577148, 'learning_rate': 1.76878612716763e-05, 'epoch': 1.16}\n",
      "{'loss': 0.439, 'grad_norm': 6.2717084884643555, 'learning_rate': 1.763005780346821e-05, 'epoch': 1.18}\n",
      "{'loss': 0.3599, 'grad_norm': 8.916625022888184, 'learning_rate': 1.7572254335260118e-05, 'epoch': 1.21}\n",
      "{'loss': 0.4425, 'grad_norm': 58.979095458984375, 'learning_rate': 1.7514450867052025e-05, 'epoch': 1.24}\n",
      "{'loss': 0.3919, 'grad_norm': 121.95820617675781, 'learning_rate': 1.7456647398843932e-05, 'epoch': 1.27}\n",
      "{'loss': 0.3643, 'grad_norm': 6.316959381103516, 'learning_rate': 1.739884393063584e-05, 'epoch': 1.3}\n",
      "{'loss': 0.3557, 'grad_norm': 20.22454261779785, 'learning_rate': 1.7341040462427746e-05, 'epoch': 1.33}\n",
      "{'loss': 0.4108, 'grad_norm': 1.096158742904663, 'learning_rate': 1.7283236994219653e-05, 'epoch': 1.36}\n",
      "{'loss': 0.5482, 'grad_norm': 62.3963508605957, 'learning_rate': 1.722543352601156e-05, 'epoch': 1.39}\n",
      "{'loss': 0.481, 'grad_norm': 17.82073974609375, 'learning_rate': 1.716763005780347e-05, 'epoch': 1.42}\n",
      "{'loss': 0.3475, 'grad_norm': 2.9465584754943848, 'learning_rate': 1.7109826589595377e-05, 'epoch': 1.45}\n",
      "{'loss': 0.2041, 'grad_norm': 6.063268184661865, 'learning_rate': 1.7052023121387284e-05, 'epoch': 1.47}\n",
      "{'loss': 0.3357, 'grad_norm': 3.846536159515381, 'learning_rate': 1.699421965317919e-05, 'epoch': 1.5}\n",
      "{'loss': 0.6584, 'grad_norm': 61.94993591308594, 'learning_rate': 1.69364161849711e-05, 'epoch': 1.53}\n",
      "{'loss': 0.5217, 'grad_norm': 4.655734539031982, 'learning_rate': 1.6878612716763008e-05, 'epoch': 1.56}\n",
      "{'loss': 0.3535, 'grad_norm': 1.4150501489639282, 'learning_rate': 1.6820809248554915e-05, 'epoch': 1.59}\n",
      "{'loss': 0.3304, 'grad_norm': 9.866382598876953, 'learning_rate': 1.676300578034682e-05, 'epoch': 1.62}\n",
      "{'loss': 0.3635, 'grad_norm': 7.6963605880737305, 'learning_rate': 1.6705202312138732e-05, 'epoch': 1.65}\n",
      "{'loss': 0.4631, 'grad_norm': 31.293848037719727, 'learning_rate': 1.664739884393064e-05, 'epoch': 1.68}\n",
      "{'loss': 0.3992, 'grad_norm': 27.650230407714844, 'learning_rate': 1.6589595375722546e-05, 'epoch': 1.71}\n",
      "{'loss': 0.5454, 'grad_norm': 15.823043823242188, 'learning_rate': 1.6531791907514452e-05, 'epoch': 1.73}\n",
      "{'loss': 0.3859, 'grad_norm': 4.879655838012695, 'learning_rate': 1.647398843930636e-05, 'epoch': 1.76}\n",
      "{'loss': 0.3383, 'grad_norm': 6.883978366851807, 'learning_rate': 1.6416184971098266e-05, 'epoch': 1.79}\n",
      "{'loss': 0.1972, 'grad_norm': 3.9096930027008057, 'learning_rate': 1.6358381502890177e-05, 'epoch': 1.82}\n",
      "{'loss': 0.3156, 'grad_norm': 16.636709213256836, 'learning_rate': 1.6300578034682083e-05, 'epoch': 1.85}\n",
      "{'loss': 0.3314, 'grad_norm': 26.448043823242188, 'learning_rate': 1.624277456647399e-05, 'epoch': 1.88}\n",
      "{'loss': 0.383, 'grad_norm': 17.085926055908203, 'learning_rate': 1.6184971098265897e-05, 'epoch': 1.91}\n",
      "{'loss': 0.3322, 'grad_norm': 63.930137634277344, 'learning_rate': 1.6127167630057804e-05, 'epoch': 1.94}\n",
      "{'loss': 0.5307, 'grad_norm': 0.7880915999412537, 'learning_rate': 1.606936416184971e-05, 'epoch': 1.97}\n",
      "{'loss': 0.5143, 'grad_norm': 20.978158950805664, 'learning_rate': 1.6011560693641618e-05, 'epoch': 1.99}\n"
     ]
    },
    {
     "data": {
      "application/vnd.jupyter.widget-view+json": {
       "model_id": "860ad8a33f6e428f9ac46388ec55a5f0",
       "version_major": 2,
       "version_minor": 0
      },
      "text/plain": [
       "  0%|          | 0/74 [00:00<?, ?it/s]"
      ]
     },
     "metadata": {},
     "output_type": "display_data"
    },
    {
     "name": "stdout",
     "output_type": "stream",
     "text": [
      "{'eval_loss': 0.416307270526886, 'eval_accuracy': 0.8631756756756757, 'eval_runtime': 33.8143, 'eval_samples_per_second': 17.507, 'eval_steps_per_second': 2.188, 'epoch': 2.0}\n",
      "{'loss': 0.2572, 'grad_norm': 6.779147624969482, 'learning_rate': 1.5953757225433528e-05, 'epoch': 2.02}\n",
      "{'loss': 0.2246, 'grad_norm': 10.827028274536133, 'learning_rate': 1.5895953757225435e-05, 'epoch': 2.05}\n",
      "{'loss': 0.326, 'grad_norm': 13.420013427734375, 'learning_rate': 1.5838150289017342e-05, 'epoch': 2.08}\n",
      "{'loss': 0.2659, 'grad_norm': 0.6477757692337036, 'learning_rate': 1.578034682080925e-05, 'epoch': 2.11}\n",
      "{'loss': 0.2768, 'grad_norm': 1.9430357217788696, 'learning_rate': 1.572254335260116e-05, 'epoch': 2.14}\n",
      "{'loss': 0.4491, 'grad_norm': 1.6893500089645386, 'learning_rate': 1.5664739884393066e-05, 'epoch': 2.17}\n",
      "{'loss': 0.7357, 'grad_norm': 22.797130584716797, 'learning_rate': 1.5606936416184973e-05, 'epoch': 2.2}\n",
      "{'loss': 0.386, 'grad_norm': 17.674335479736328, 'learning_rate': 1.554913294797688e-05, 'epoch': 2.23}\n",
      "{'loss': 0.249, 'grad_norm': 1.91487455368042, 'learning_rate': 1.5491329479768787e-05, 'epoch': 2.25}\n",
      "{'loss': 0.3746, 'grad_norm': 18.853567123413086, 'learning_rate': 1.5433526011560697e-05, 'epoch': 2.28}\n",
      "{'loss': 0.3331, 'grad_norm': 8.492634773254395, 'learning_rate': 1.5375722543352604e-05, 'epoch': 2.31}\n",
      "{'loss': 0.2567, 'grad_norm': 13.073332786560059, 'learning_rate': 1.531791907514451e-05, 'epoch': 2.34}\n",
      "{'loss': 0.3166, 'grad_norm': 1.0069371461868286, 'learning_rate': 1.5260115606936418e-05, 'epoch': 2.37}\n",
      "{'loss': 0.4744, 'grad_norm': 4.2227678298950195, 'learning_rate': 1.5202312138728326e-05, 'epoch': 2.4}\n",
      "{'loss': 0.4542, 'grad_norm': 1.3073854446411133, 'learning_rate': 1.5144508670520233e-05, 'epoch': 2.43}\n",
      "{'loss': 0.2933, 'grad_norm': 21.74339485168457, 'learning_rate': 1.508670520231214e-05, 'epoch': 2.46}\n",
      "{'loss': 0.24, 'grad_norm': 6.362585544586182, 'learning_rate': 1.5028901734104047e-05, 'epoch': 2.49}\n",
      "{'loss': 0.2137, 'grad_norm': 0.7069091796875, 'learning_rate': 1.4971098265895956e-05, 'epoch': 2.51}\n",
      "{'loss': 0.482, 'grad_norm': 6.82452917098999, 'learning_rate': 1.4913294797687862e-05, 'epoch': 2.54}\n",
      "{'loss': 0.1677, 'grad_norm': 1.1228772401809692, 'learning_rate': 1.485549132947977e-05, 'epoch': 2.57}\n",
      "{'loss': 0.3876, 'grad_norm': 23.72903060913086, 'learning_rate': 1.4797687861271676e-05, 'epoch': 2.6}\n",
      "{'loss': 0.3191, 'grad_norm': 0.5849817395210266, 'learning_rate': 1.4739884393063586e-05, 'epoch': 2.63}\n",
      "{'loss': 0.478, 'grad_norm': 3.228428602218628, 'learning_rate': 1.4682080924855493e-05, 'epoch': 2.66}\n",
      "{'loss': 0.3122, 'grad_norm': 21.65656852722168, 'learning_rate': 1.46242774566474e-05, 'epoch': 2.69}\n",
      "{'loss': 0.3231, 'grad_norm': 12.21500015258789, 'learning_rate': 1.4566473988439307e-05, 'epoch': 2.72}\n",
      "{'loss': 0.3452, 'grad_norm': 20.28276252746582, 'learning_rate': 1.4508670520231216e-05, 'epoch': 2.75}\n",
      "{'loss': 0.2874, 'grad_norm': 37.779075622558594, 'learning_rate': 1.4450867052023123e-05, 'epoch': 2.77}\n",
      "{'loss': 0.4298, 'grad_norm': 19.738515853881836, 'learning_rate': 1.439306358381503e-05, 'epoch': 2.8}\n",
      "{'loss': 0.336, 'grad_norm': 1.286622405052185, 'learning_rate': 1.4335260115606936e-05, 'epoch': 2.83}\n",
      "{'loss': 0.225, 'grad_norm': 67.2729721069336, 'learning_rate': 1.4277456647398843e-05, 'epoch': 2.86}\n",
      "{'loss': 0.5829, 'grad_norm': 0.359505295753479, 'learning_rate': 1.4219653179190754e-05, 'epoch': 2.89}\n",
      "{'loss': 0.3909, 'grad_norm': 18.357107162475586, 'learning_rate': 1.416184971098266e-05, 'epoch': 2.92}\n",
      "{'loss': 0.3975, 'grad_norm': 23.69904327392578, 'learning_rate': 1.4104046242774567e-05, 'epoch': 2.95}\n",
      "{'loss': 0.4454, 'grad_norm': 14.06651782989502, 'learning_rate': 1.4046242774566474e-05, 'epoch': 2.98}\n"
     ]
    },
    {
     "data": {
      "application/vnd.jupyter.widget-view+json": {
       "model_id": "76a999d0cb79494ca92251452b453f50",
       "version_major": 2,
       "version_minor": 0
      },
      "text/plain": [
       "  0%|          | 0/74 [00:00<?, ?it/s]"
      ]
     },
     "metadata": {},
     "output_type": "display_data"
    },
    {
     "name": "stdout",
     "output_type": "stream",
     "text": [
      "{'eval_loss': 0.38455814123153687, 'eval_accuracy': 0.8885135135135135, 'eval_runtime': 34.0003, 'eval_samples_per_second': 17.412, 'eval_steps_per_second': 2.176, 'epoch': 3.0}\n",
      "{'loss': 0.2915, 'grad_norm': 9.45718002319336, 'learning_rate': 1.3988439306358383e-05, 'epoch': 3.01}\n",
      "{'loss': 0.2682, 'grad_norm': 0.6702945828437805, 'learning_rate': 1.393063583815029e-05, 'epoch': 3.03}\n",
      "{'loss': 0.3023, 'grad_norm': 0.5241795778274536, 'learning_rate': 1.3872832369942197e-05, 'epoch': 3.06}\n",
      "{'loss': 0.2273, 'grad_norm': 8.70785140991211, 'learning_rate': 1.3815028901734104e-05, 'epoch': 3.09}\n",
      "{'loss': 0.3239, 'grad_norm': 35.06383514404297, 'learning_rate': 1.3757225433526014e-05, 'epoch': 3.12}\n",
      "{'loss': 0.4753, 'grad_norm': 26.636075973510742, 'learning_rate': 1.369942196531792e-05, 'epoch': 3.15}\n",
      "{'loss': 0.1652, 'grad_norm': 2.1369788646698, 'learning_rate': 1.3641618497109828e-05, 'epoch': 3.18}\n",
      "{'loss': 0.182, 'grad_norm': 42.24102783203125, 'learning_rate': 1.3583815028901735e-05, 'epoch': 3.21}\n",
      "{'loss': 0.2877, 'grad_norm': 3.998230457305908, 'learning_rate': 1.3526011560693643e-05, 'epoch': 3.24}\n",
      "{'loss': 0.2885, 'grad_norm': 20.701486587524414, 'learning_rate': 1.346820809248555e-05, 'epoch': 3.27}\n",
      "{'loss': 0.2642, 'grad_norm': 2.821166753768921, 'learning_rate': 1.3410404624277457e-05, 'epoch': 3.29}\n",
      "{'loss': 0.1565, 'grad_norm': 3.890368700027466, 'learning_rate': 1.3352601156069365e-05, 'epoch': 3.32}\n",
      "{'loss': 0.1278, 'grad_norm': 0.3002089560031891, 'learning_rate': 1.3294797687861272e-05, 'epoch': 3.35}\n",
      "{'loss': 0.2526, 'grad_norm': 1.1865087747573853, 'learning_rate': 1.3236994219653181e-05, 'epoch': 3.38}\n",
      "{'loss': 0.3285, 'grad_norm': 5.886896133422852, 'learning_rate': 1.3179190751445088e-05, 'epoch': 3.41}\n",
      "{'loss': 0.2136, 'grad_norm': 51.8292350769043, 'learning_rate': 1.3121387283236995e-05, 'epoch': 3.44}\n",
      "{'loss': 0.3001, 'grad_norm': 30.238534927368164, 'learning_rate': 1.3063583815028902e-05, 'epoch': 3.47}\n",
      "{'loss': 0.5344, 'grad_norm': 4.126968860626221, 'learning_rate': 1.300578034682081e-05, 'epoch': 3.5}\n",
      "{'loss': 0.4539, 'grad_norm': 2.09426212310791, 'learning_rate': 1.2947976878612719e-05, 'epoch': 3.53}\n",
      "{'loss': 0.4118, 'grad_norm': 1.7997032403945923, 'learning_rate': 1.2890173410404626e-05, 'epoch': 3.55}\n",
      "{'loss': 0.2331, 'grad_norm': 13.570711135864258, 'learning_rate': 1.2832369942196533e-05, 'epoch': 3.58}\n",
      "{'loss': 0.3346, 'grad_norm': 1.1561040878295898, 'learning_rate': 1.2774566473988441e-05, 'epoch': 3.61}\n",
      "{'loss': 0.1782, 'grad_norm': 0.4321195185184479, 'learning_rate': 1.2716763005780348e-05, 'epoch': 3.64}\n",
      "{'loss': 0.2739, 'grad_norm': 0.6950539946556091, 'learning_rate': 1.2658959537572255e-05, 'epoch': 3.67}\n",
      "{'loss': 0.4245, 'grad_norm': 0.5827584266662598, 'learning_rate': 1.2601156069364162e-05, 'epoch': 3.7}\n",
      "{'loss': 0.2913, 'grad_norm': 1.2883740663528442, 'learning_rate': 1.2543352601156072e-05, 'epoch': 3.73}\n",
      "{'loss': 0.3327, 'grad_norm': 1.4928418397903442, 'learning_rate': 1.2485549132947979e-05, 'epoch': 3.76}\n",
      "{'loss': 0.2165, 'grad_norm': 2.3977017402648926, 'learning_rate': 1.2427745664739886e-05, 'epoch': 3.79}\n",
      "{'loss': 0.2526, 'grad_norm': 0.5195517539978027, 'learning_rate': 1.2369942196531793e-05, 'epoch': 3.82}\n",
      "{'loss': 0.2766, 'grad_norm': 1.9773807525634766, 'learning_rate': 1.2312138728323701e-05, 'epoch': 3.84}\n",
      "{'loss': 0.3165, 'grad_norm': 0.37289324402809143, 'learning_rate': 1.2254335260115608e-05, 'epoch': 3.87}\n",
      "{'loss': 0.2666, 'grad_norm': 1.2803412675857544, 'learning_rate': 1.2196531791907515e-05, 'epoch': 3.9}\n",
      "{'loss': 0.2466, 'grad_norm': 2.150963068008423, 'learning_rate': 1.2138728323699422e-05, 'epoch': 3.93}\n",
      "{'loss': 0.1642, 'grad_norm': 4.497334957122803, 'learning_rate': 1.2080924855491329e-05, 'epoch': 3.96}\n",
      "{'loss': 0.3455, 'grad_norm': 11.033218383789062, 'learning_rate': 1.202312138728324e-05, 'epoch': 3.99}\n"
     ]
    },
    {
     "data": {
      "application/vnd.jupyter.widget-view+json": {
       "model_id": "b847f5e8acc84eb0bb48f4dc48e14a65",
       "version_major": 2,
       "version_minor": 0
      },
      "text/plain": [
       "  0%|          | 0/74 [00:00<?, ?it/s]"
      ]
     },
     "metadata": {},
     "output_type": "display_data"
    },
    {
     "name": "stdout",
     "output_type": "stream",
     "text": [
      "{'eval_loss': 0.46397194266319275, 'eval_accuracy': 0.8766891891891891, 'eval_runtime': 34.0817, 'eval_samples_per_second': 17.37, 'eval_steps_per_second': 2.171, 'epoch': 4.0}\n",
      "{'loss': 0.2381, 'grad_norm': 3.425333261489868, 'learning_rate': 1.1965317919075146e-05, 'epoch': 4.02}\n",
      "{'loss': 0.2653, 'grad_norm': 0.3114086985588074, 'learning_rate': 1.1907514450867053e-05, 'epoch': 4.05}\n",
      "{'loss': 0.2348, 'grad_norm': 35.966346740722656, 'learning_rate': 1.184971098265896e-05, 'epoch': 4.08}\n",
      "{'loss': 0.1838, 'grad_norm': 60.22093963623047, 'learning_rate': 1.1791907514450869e-05, 'epoch': 4.1}\n",
      "{'loss': 0.2785, 'grad_norm': 2.508216142654419, 'learning_rate': 1.1734104046242775e-05, 'epoch': 4.13}\n",
      "{'loss': 0.2036, 'grad_norm': 2.0821943283081055, 'learning_rate': 1.1676300578034682e-05, 'epoch': 4.16}\n",
      "{'loss': 0.314, 'grad_norm': 1.5883985757827759, 'learning_rate': 1.161849710982659e-05, 'epoch': 4.19}\n",
      "{'loss': 0.2987, 'grad_norm': 0.8127607107162476, 'learning_rate': 1.15606936416185e-05, 'epoch': 4.22}\n",
      "{'loss': 0.2001, 'grad_norm': 0.3361668586730957, 'learning_rate': 1.1502890173410406e-05, 'epoch': 4.25}\n",
      "{'loss': 0.3365, 'grad_norm': 12.463958740234375, 'learning_rate': 1.1445086705202313e-05, 'epoch': 4.28}\n",
      "{'loss': 0.225, 'grad_norm': 0.5686596035957336, 'learning_rate': 1.138728323699422e-05, 'epoch': 4.31}\n",
      "{'loss': 0.1411, 'grad_norm': 4.470477104187012, 'learning_rate': 1.1329479768786129e-05, 'epoch': 4.34}\n",
      "{'loss': 0.2359, 'grad_norm': 24.637779235839844, 'learning_rate': 1.1271676300578036e-05, 'epoch': 4.36}\n",
      "{'loss': 0.2994, 'grad_norm': 37.86940383911133, 'learning_rate': 1.1213872832369943e-05, 'epoch': 4.39}\n",
      "{'loss': 0.238, 'grad_norm': 0.2961394190788269, 'learning_rate': 1.115606936416185e-05, 'epoch': 4.42}\n",
      "{'loss': 0.2821, 'grad_norm': 63.63151931762695, 'learning_rate': 1.1098265895953756e-05, 'epoch': 4.45}\n",
      "{'loss': 0.3023, 'grad_norm': 19.07822036743164, 'learning_rate': 1.1040462427745667e-05, 'epoch': 4.48}\n",
      "{'loss': 0.3239, 'grad_norm': 105.13764953613281, 'learning_rate': 1.0982658959537573e-05, 'epoch': 4.51}\n",
      "{'loss': 0.419, 'grad_norm': 65.72785949707031, 'learning_rate': 1.092485549132948e-05, 'epoch': 4.54}\n",
      "{'loss': 0.3278, 'grad_norm': 42.78974151611328, 'learning_rate': 1.0867052023121387e-05, 'epoch': 4.57}\n",
      "{'loss': 0.3331, 'grad_norm': 36.02229309082031, 'learning_rate': 1.0809248554913296e-05, 'epoch': 4.6}\n",
      "{'loss': 0.0991, 'grad_norm': 19.945955276489258, 'learning_rate': 1.0751445086705203e-05, 'epoch': 4.62}\n",
      "{'loss': 0.308, 'grad_norm': 0.2584834098815918, 'learning_rate': 1.069364161849711e-05, 'epoch': 4.65}\n",
      "{'loss': 0.1025, 'grad_norm': 1.1378207206726074, 'learning_rate': 1.0635838150289017e-05, 'epoch': 4.68}\n",
      "{'loss': 0.1135, 'grad_norm': 464.9685363769531, 'learning_rate': 1.0578034682080927e-05, 'epoch': 4.71}\n",
      "{'loss': 0.2786, 'grad_norm': 0.23820137977600098, 'learning_rate': 1.0520231213872834e-05, 'epoch': 4.74}\n",
      "{'loss': 0.2646, 'grad_norm': 0.26481273770332336, 'learning_rate': 1.046242774566474e-05, 'epoch': 4.77}\n",
      "{'loss': 0.0996, 'grad_norm': 0.1923084408044815, 'learning_rate': 1.0404624277456647e-05, 'epoch': 4.8}\n",
      "{'loss': 0.4336, 'grad_norm': 0.2978772521018982, 'learning_rate': 1.0346820809248556e-05, 'epoch': 4.83}\n",
      "{'loss': 0.4269, 'grad_norm': 112.84176635742188, 'learning_rate': 1.0289017341040463e-05, 'epoch': 4.86}\n",
      "{'loss': 0.1237, 'grad_norm': 1.344396948814392, 'learning_rate': 1.023121387283237e-05, 'epoch': 4.88}\n",
      "{'loss': 0.2461, 'grad_norm': 0.2625438868999481, 'learning_rate': 1.0173410404624278e-05, 'epoch': 4.91}\n",
      "{'loss': 0.4754, 'grad_norm': 17.47126579284668, 'learning_rate': 1.0115606936416187e-05, 'epoch': 4.94}\n",
      "{'loss': 0.1793, 'grad_norm': 9.210326194763184, 'learning_rate': 1.0057803468208094e-05, 'epoch': 4.97}\n",
      "{'loss': 0.1518, 'grad_norm': 1.0629526376724243, 'learning_rate': 1e-05, 'epoch': 5.0}\n"
     ]
    },
    {
     "data": {
      "application/vnd.jupyter.widget-view+json": {
       "model_id": "addc1d20462b47a39766c18b2a6c6842",
       "version_major": 2,
       "version_minor": 0
      },
      "text/plain": [
       "  0%|          | 0/74 [00:00<?, ?it/s]"
      ]
     },
     "metadata": {},
     "output_type": "display_data"
    },
    {
     "name": "stdout",
     "output_type": "stream",
     "text": [
      "{'eval_loss': 0.4935361444950104, 'eval_accuracy': 0.8733108108108109, 'eval_runtime': 34.0724, 'eval_samples_per_second': 17.375, 'eval_steps_per_second': 2.172, 'epoch': 5.0}\n",
      "{'loss': 0.1658, 'grad_norm': 0.3279617428779602, 'learning_rate': 9.942196531791908e-06, 'epoch': 5.03}\n",
      "{'loss': 0.1509, 'grad_norm': 12.510065078735352, 'learning_rate': 9.884393063583816e-06, 'epoch': 5.06}\n",
      "{'loss': 0.3034, 'grad_norm': 16.9424991607666, 'learning_rate': 9.826589595375723e-06, 'epoch': 5.09}\n",
      "{'loss': 0.241, 'grad_norm': 13.197035789489746, 'learning_rate': 9.768786127167632e-06, 'epoch': 5.12}\n",
      "{'loss': 0.1236, 'grad_norm': 0.32131344079971313, 'learning_rate': 9.710982658959539e-06, 'epoch': 5.14}\n",
      "{'loss': 0.2148, 'grad_norm': 17.904037475585938, 'learning_rate': 9.653179190751446e-06, 'epoch': 5.17}\n",
      "{'loss': 0.2319, 'grad_norm': 0.27298834919929504, 'learning_rate': 9.595375722543352e-06, 'epoch': 5.2}\n",
      "{'loss': 0.1573, 'grad_norm': 0.28014808893203735, 'learning_rate': 9.537572254335261e-06, 'epoch': 5.23}\n",
      "{'loss': 0.2134, 'grad_norm': 0.29730483889579773, 'learning_rate': 9.479768786127168e-06, 'epoch': 5.26}\n",
      "{'loss': 0.2732, 'grad_norm': 1.1242586374282837, 'learning_rate': 9.421965317919077e-06, 'epoch': 5.29}\n",
      "{'loss': 0.2689, 'grad_norm': 30.895130157470703, 'learning_rate': 9.364161849710983e-06, 'epoch': 5.32}\n",
      "{'loss': 0.2016, 'grad_norm': 0.1907302886247635, 'learning_rate': 9.306358381502892e-06, 'epoch': 5.35}\n",
      "{'loss': 0.1762, 'grad_norm': 29.74152946472168, 'learning_rate': 9.248554913294799e-06, 'epoch': 5.38}\n",
      "{'loss': 0.2463, 'grad_norm': 75.96022033691406, 'learning_rate': 9.190751445086706e-06, 'epoch': 5.4}\n",
      "{'loss': 0.1092, 'grad_norm': 2.335233688354492, 'learning_rate': 9.132947976878613e-06, 'epoch': 5.43}\n",
      "{'loss': 0.1456, 'grad_norm': 0.157045379281044, 'learning_rate': 9.075144508670521e-06, 'epoch': 5.46}\n",
      "{'loss': 0.1943, 'grad_norm': 3.874223232269287, 'learning_rate': 9.017341040462428e-06, 'epoch': 5.49}\n",
      "{'loss': 0.1189, 'grad_norm': 0.3032589554786682, 'learning_rate': 8.959537572254337e-06, 'epoch': 5.52}\n",
      "{'loss': 0.0734, 'grad_norm': 0.5304847955703735, 'learning_rate': 8.901734104046244e-06, 'epoch': 5.55}\n",
      "{'loss': 0.2061, 'grad_norm': 2.2461326122283936, 'learning_rate': 8.84393063583815e-06, 'epoch': 5.58}\n",
      "{'loss': 0.2468, 'grad_norm': 0.21907712519168854, 'learning_rate': 8.786127167630059e-06, 'epoch': 5.61}\n",
      "{'loss': 0.1813, 'grad_norm': 0.2909212112426758, 'learning_rate': 8.728323699421966e-06, 'epoch': 5.64}\n",
      "{'loss': 0.1598, 'grad_norm': 7.335089206695557, 'learning_rate': 8.670520231213873e-06, 'epoch': 5.66}\n",
      "{'loss': 0.2244, 'grad_norm': 44.109352111816406, 'learning_rate': 8.61271676300578e-06, 'epoch': 5.69}\n",
      "{'loss': 0.1891, 'grad_norm': 0.24219191074371338, 'learning_rate': 8.554913294797688e-06, 'epoch': 5.72}\n",
      "{'loss': 0.2355, 'grad_norm': 27.423776626586914, 'learning_rate': 8.497109826589595e-06, 'epoch': 5.75}\n",
      "{'loss': 0.3635, 'grad_norm': 87.69261932373047, 'learning_rate': 8.439306358381504e-06, 'epoch': 5.78}\n",
      "{'loss': 0.2189, 'grad_norm': 16.79400634765625, 'learning_rate': 8.38150289017341e-06, 'epoch': 5.81}\n",
      "{'loss': 0.1652, 'grad_norm': 1.7805449962615967, 'learning_rate': 8.32369942196532e-06, 'epoch': 5.84}\n",
      "{'loss': 0.1971, 'grad_norm': 0.45037195086479187, 'learning_rate': 8.265895953757226e-06, 'epoch': 5.87}\n",
      "{'loss': 0.3407, 'grad_norm': 1.4251172542572021, 'learning_rate': 8.208092485549133e-06, 'epoch': 5.9}\n",
      "{'loss': 0.2471, 'grad_norm': 0.2938583493232727, 'learning_rate': 8.150289017341042e-06, 'epoch': 5.92}\n",
      "{'loss': 0.2856, 'grad_norm': 0.25117599964141846, 'learning_rate': 8.092485549132949e-06, 'epoch': 5.95}\n",
      "{'loss': 0.1993, 'grad_norm': 26.996549606323242, 'learning_rate': 8.034682080924856e-06, 'epoch': 5.98}\n"
     ]
    },
    {
     "data": {
      "application/vnd.jupyter.widget-view+json": {
       "model_id": "6d99eebb252e45eda70ec0d86ad2c133",
       "version_major": 2,
       "version_minor": 0
      },
      "text/plain": [
       "  0%|          | 0/74 [00:00<?, ?it/s]"
      ]
     },
     "metadata": {},
     "output_type": "display_data"
    },
    {
     "name": "stdout",
     "output_type": "stream",
     "text": [
      "{'eval_loss': 0.5244150161743164, 'eval_accuracy': 0.8665540540540541, 'eval_runtime': 33.9667, 'eval_samples_per_second': 17.429, 'eval_steps_per_second': 2.179, 'epoch': 6.0}\n",
      "{'loss': 0.1946, 'grad_norm': 0.6772587895393372, 'learning_rate': 7.976878612716764e-06, 'epoch': 6.01}\n",
      "{'loss': 0.0592, 'grad_norm': 0.6252508163452148, 'learning_rate': 7.919075144508671e-06, 'epoch': 6.04}\n",
      "{'loss': 0.2059, 'grad_norm': 3.0221314430236816, 'learning_rate': 7.86127167630058e-06, 'epoch': 6.07}\n",
      "{'loss': 0.0635, 'grad_norm': 0.19497694075107574, 'learning_rate': 7.803468208092486e-06, 'epoch': 6.1}\n",
      "{'loss': 0.243, 'grad_norm': 0.23054230213165283, 'learning_rate': 7.745664739884393e-06, 'epoch': 6.13}\n",
      "{'loss': 0.2349, 'grad_norm': 0.2922471761703491, 'learning_rate': 7.687861271676302e-06, 'epoch': 6.16}\n",
      "{'loss': 0.1008, 'grad_norm': 0.6165456175804138, 'learning_rate': 7.630057803468209e-06, 'epoch': 6.18}\n",
      "{'loss': 0.0935, 'grad_norm': 27.992610931396484, 'learning_rate': 7.5722543352601166e-06, 'epoch': 6.21}\n",
      "{'loss': 0.1244, 'grad_norm': 11.66596794128418, 'learning_rate': 7.5144508670520235e-06, 'epoch': 6.24}\n",
      "{'loss': 0.0738, 'grad_norm': 0.1425710767507553, 'learning_rate': 7.456647398843931e-06, 'epoch': 6.27}\n",
      "{'loss': 0.1245, 'grad_norm': 22.036348342895508, 'learning_rate': 7.398843930635838e-06, 'epoch': 6.3}\n",
      "{'loss': 0.1694, 'grad_norm': 14.933466911315918, 'learning_rate': 7.341040462427747e-06, 'epoch': 6.33}\n",
      "{'loss': 0.1294, 'grad_norm': 0.12301869690418243, 'learning_rate': 7.283236994219654e-06, 'epoch': 6.36}\n",
      "{'loss': 0.122, 'grad_norm': 0.18700039386749268, 'learning_rate': 7.225433526011561e-06, 'epoch': 6.39}\n",
      "{'loss': 0.2491, 'grad_norm': 0.13984668254852295, 'learning_rate': 7.167630057803468e-06, 'epoch': 6.42}\n",
      "{'loss': 0.0934, 'grad_norm': 0.345735102891922, 'learning_rate': 7.109826589595377e-06, 'epoch': 6.45}\n",
      "{'loss': 0.1934, 'grad_norm': 0.15263335406780243, 'learning_rate': 7.052023121387284e-06, 'epoch': 6.47}\n",
      "{'loss': 0.1119, 'grad_norm': 0.1402319371700287, 'learning_rate': 6.9942196531791914e-06, 'epoch': 6.5}\n",
      "{'loss': 0.1371, 'grad_norm': 0.17659497261047363, 'learning_rate': 6.936416184971098e-06, 'epoch': 6.53}\n",
      "{'loss': 0.4407, 'grad_norm': 6.804955005645752, 'learning_rate': 6.878612716763007e-06, 'epoch': 6.56}\n",
      "{'loss': 0.2706, 'grad_norm': 0.196420356631279, 'learning_rate': 6.820809248554914e-06, 'epoch': 6.59}\n",
      "{'loss': 0.2242, 'grad_norm': 10.605589866638184, 'learning_rate': 6.7630057803468215e-06, 'epoch': 6.62}\n",
      "{'loss': 0.2209, 'grad_norm': 0.22682227194309235, 'learning_rate': 6.7052023121387284e-06, 'epoch': 6.65}\n",
      "{'loss': 0.2426, 'grad_norm': 0.5780240893363953, 'learning_rate': 6.647398843930636e-06, 'epoch': 6.68}\n",
      "{'loss': 0.1292, 'grad_norm': 0.23878459632396698, 'learning_rate': 6.589595375722544e-06, 'epoch': 6.71}\n",
      "{'loss': 0.1956, 'grad_norm': 0.3669348657131195, 'learning_rate': 6.531791907514451e-06, 'epoch': 6.73}\n",
      "{'loss': 0.0754, 'grad_norm': 0.30121925473213196, 'learning_rate': 6.473988439306359e-06, 'epoch': 6.76}\n",
      "{'loss': 0.2628, 'grad_norm': 3.0425541400909424, 'learning_rate': 6.416184971098266e-06, 'epoch': 6.79}\n",
      "{'loss': 0.2522, 'grad_norm': 10.879280090332031, 'learning_rate': 6.358381502890174e-06, 'epoch': 6.82}\n",
      "{'loss': 0.0727, 'grad_norm': 16.38094139099121, 'learning_rate': 6.300578034682081e-06, 'epoch': 6.85}\n",
      "{'loss': 0.1386, 'grad_norm': 0.21623511612415314, 'learning_rate': 6.2427745664739895e-06, 'epoch': 6.88}\n",
      "{'loss': 0.1875, 'grad_norm': 0.4456978440284729, 'learning_rate': 6.184971098265896e-06, 'epoch': 6.91}\n",
      "{'loss': 0.2245, 'grad_norm': 0.16158436238765717, 'learning_rate': 6.127167630057804e-06, 'epoch': 6.94}\n",
      "{'loss': 0.121, 'grad_norm': 5.761595249176025, 'learning_rate': 6.069364161849711e-06, 'epoch': 6.97}\n",
      "{'loss': 0.1245, 'grad_norm': 2.3753252029418945, 'learning_rate': 6.01156069364162e-06, 'epoch': 6.99}\n"
     ]
    },
    {
     "data": {
      "application/vnd.jupyter.widget-view+json": {
       "model_id": "e81d5c449acc43348f2138cb9583dad4",
       "version_major": 2,
       "version_minor": 0
      },
      "text/plain": [
       "  0%|          | 0/74 [00:00<?, ?it/s]"
      ]
     },
     "metadata": {},
     "output_type": "display_data"
    },
    {
     "name": "stdout",
     "output_type": "stream",
     "text": [
      "{'eval_loss': 0.5829776525497437, 'eval_accuracy': 0.8665540540540541, 'eval_runtime': 34.3229, 'eval_samples_per_second': 17.248, 'eval_steps_per_second': 2.156, 'epoch': 7.0}\n",
      "{'loss': 0.3352, 'grad_norm': 6.5905327796936035, 'learning_rate': 5.9537572254335265e-06, 'epoch': 7.02}\n",
      "{'loss': 0.1434, 'grad_norm': 0.19199329614639282, 'learning_rate': 5.895953757225434e-06, 'epoch': 7.05}\n",
      "{'loss': 0.0679, 'grad_norm': 0.6215019822120667, 'learning_rate': 5.838150289017341e-06, 'epoch': 7.08}\n",
      "{'loss': 0.0648, 'grad_norm': 0.14847657084465027, 'learning_rate': 5.78034682080925e-06, 'epoch': 7.11}\n",
      "{'loss': 0.1379, 'grad_norm': 0.15492530167102814, 'learning_rate': 5.722543352601157e-06, 'epoch': 7.14}\n",
      "{'loss': 0.1667, 'grad_norm': 0.10055476427078247, 'learning_rate': 5.664739884393064e-06, 'epoch': 7.17}\n",
      "{'loss': 0.1039, 'grad_norm': 0.1959397941827774, 'learning_rate': 5.606936416184971e-06, 'epoch': 7.2}\n",
      "{'loss': 0.1978, 'grad_norm': 0.15305273234844208, 'learning_rate': 5.549132947976878e-06, 'epoch': 7.23}\n",
      "{'loss': 0.0726, 'grad_norm': 0.1345800757408142, 'learning_rate': 5.491329479768787e-06, 'epoch': 7.25}\n",
      "{'loss': 0.1725, 'grad_norm': 0.12231127917766571, 'learning_rate': 5.433526011560694e-06, 'epoch': 7.28}\n",
      "{'loss': 0.0706, 'grad_norm': 0.12620240449905396, 'learning_rate': 5.375722543352601e-06, 'epoch': 7.31}\n",
      "{'loss': 0.1082, 'grad_norm': 0.1438376009464264, 'learning_rate': 5.317919075144508e-06, 'epoch': 7.34}\n",
      "{'loss': 0.0659, 'grad_norm': 0.13381023705005646, 'learning_rate': 5.260115606936417e-06, 'epoch': 7.37}\n",
      "{'loss': 0.1224, 'grad_norm': 0.1313255876302719, 'learning_rate': 5.202312138728324e-06, 'epoch': 7.4}\n",
      "{'loss': 0.0715, 'grad_norm': 0.14861491322517395, 'learning_rate': 5.1445086705202315e-06, 'epoch': 7.43}\n",
      "{'loss': 0.0863, 'grad_norm': 0.14264346659183502, 'learning_rate': 5.086705202312139e-06, 'epoch': 7.46}\n",
      "{'loss': 0.1433, 'grad_norm': 0.23540619015693665, 'learning_rate': 5.028901734104047e-06, 'epoch': 7.49}\n",
      "{'loss': 0.2373, 'grad_norm': 3.3319356441497803, 'learning_rate': 4.971098265895954e-06, 'epoch': 7.51}\n",
      "{'loss': 0.2842, 'grad_norm': 30.95212745666504, 'learning_rate': 4.913294797687862e-06, 'epoch': 7.54}\n",
      "{'loss': 0.1262, 'grad_norm': 0.1335657685995102, 'learning_rate': 4.855491329479769e-06, 'epoch': 7.57}\n",
      "{'loss': 0.2458, 'grad_norm': 0.30055999755859375, 'learning_rate': 4.797687861271676e-06, 'epoch': 7.6}\n",
      "{'loss': 0.1643, 'grad_norm': 4.884199619293213, 'learning_rate': 4.739884393063584e-06, 'epoch': 7.63}\n",
      "{'loss': 0.1507, 'grad_norm': 16.764127731323242, 'learning_rate': 4.682080924855492e-06, 'epoch': 7.66}\n",
      "{'loss': 0.1249, 'grad_norm': 40.83942413330078, 'learning_rate': 4.6242774566473994e-06, 'epoch': 7.69}\n",
      "{'loss': 0.2209, 'grad_norm': 2.8769729137420654, 'learning_rate': 4.566473988439306e-06, 'epoch': 7.72}\n",
      "{'loss': 0.276, 'grad_norm': 0.1425527036190033, 'learning_rate': 4.508670520231214e-06, 'epoch': 7.75}\n",
      "{'loss': 0.2934, 'grad_norm': 0.16161081194877625, 'learning_rate': 4.450867052023122e-06, 'epoch': 7.77}\n",
      "{'loss': 0.0575, 'grad_norm': 51.79698181152344, 'learning_rate': 4.3930635838150296e-06, 'epoch': 7.8}\n",
      "{'loss': 0.1461, 'grad_norm': 0.2707110345363617, 'learning_rate': 4.3352601156069365e-06, 'epoch': 7.83}\n",
      "{'loss': 0.1233, 'grad_norm': 0.47168636322021484, 'learning_rate': 4.277456647398844e-06, 'epoch': 7.86}\n",
      "{'loss': 0.1123, 'grad_norm': 0.3222693204879761, 'learning_rate': 4.219653179190752e-06, 'epoch': 7.89}\n",
      "{'loss': 0.0723, 'grad_norm': 342.213134765625, 'learning_rate': 4.16184971098266e-06, 'epoch': 7.92}\n",
      "{'loss': 0.1819, 'grad_norm': 0.17729651927947998, 'learning_rate': 4.1040462427745666e-06, 'epoch': 7.95}\n",
      "{'loss': 0.008, 'grad_norm': 0.12273930013179779, 'learning_rate': 4.046242774566474e-06, 'epoch': 7.98}\n"
     ]
    },
    {
     "data": {
      "application/vnd.jupyter.widget-view+json": {
       "model_id": "ea212ab1f6094486ae5f9341171f1ff1",
       "version_major": 2,
       "version_minor": 0
      },
      "text/plain": [
       "  0%|          | 0/74 [00:00<?, ?it/s]"
      ]
     },
     "metadata": {},
     "output_type": "display_data"
    },
    {
     "name": "stdout",
     "output_type": "stream",
     "text": [
      "{'eval_loss': 0.6193937063217163, 'eval_accuracy': 0.8699324324324325, 'eval_runtime': 34.2, 'eval_samples_per_second': 17.31, 'eval_steps_per_second': 2.164, 'epoch': 8.0}\n",
      "{'loss': 0.068, 'grad_norm': 0.0943848192691803, 'learning_rate': 3.988439306358382e-06, 'epoch': 8.01}\n",
      "{'loss': 0.14, 'grad_norm': 0.11470434814691544, 'learning_rate': 3.93063583815029e-06, 'epoch': 8.03}\n",
      "{'loss': 0.1801, 'grad_norm': 93.41809844970703, 'learning_rate': 3.872832369942197e-06, 'epoch': 8.06}\n",
      "{'loss': 0.036, 'grad_norm': 0.12954479455947876, 'learning_rate': 3.815028901734104e-06, 'epoch': 8.09}\n",
      "{'loss': 0.0372, 'grad_norm': 0.08178813755512238, 'learning_rate': 3.7572254335260117e-06, 'epoch': 8.12}\n",
      "{'loss': 0.1748, 'grad_norm': 2.99605131149292, 'learning_rate': 3.699421965317919e-06, 'epoch': 8.15}\n",
      "{'loss': 0.1928, 'grad_norm': 0.25401368737220764, 'learning_rate': 3.641618497109827e-06, 'epoch': 8.18}\n",
      "{'loss': 0.1368, 'grad_norm': 2.1179773807525635, 'learning_rate': 3.583815028901734e-06, 'epoch': 8.21}\n",
      "{'loss': 0.0079, 'grad_norm': 0.3186664879322052, 'learning_rate': 3.526011560693642e-06, 'epoch': 8.24}\n",
      "{'loss': 0.0566, 'grad_norm': 0.33550435304641724, 'learning_rate': 3.468208092485549e-06, 'epoch': 8.27}\n",
      "{'loss': 0.1665, 'grad_norm': 0.11355022341012955, 'learning_rate': 3.410404624277457e-06, 'epoch': 8.29}\n",
      "{'loss': 0.1506, 'grad_norm': 0.5041502714157104, 'learning_rate': 3.3526011560693642e-06, 'epoch': 8.32}\n",
      "{'loss': 0.3076, 'grad_norm': 4.849596977233887, 'learning_rate': 3.294797687861272e-06, 'epoch': 8.35}\n",
      "{'loss': 0.1292, 'grad_norm': 20.822982788085938, 'learning_rate': 3.2369942196531797e-06, 'epoch': 8.38}\n",
      "{'loss': 0.0653, 'grad_norm': 0.12034958600997925, 'learning_rate': 3.179190751445087e-06, 'epoch': 8.41}\n",
      "{'loss': 0.0924, 'grad_norm': 0.1294078379869461, 'learning_rate': 3.1213872832369948e-06, 'epoch': 8.44}\n",
      "{'loss': 0.1184, 'grad_norm': 0.44917920231819153, 'learning_rate': 3.063583815028902e-06, 'epoch': 8.47}\n",
      "{'loss': 0.1007, 'grad_norm': 0.23406124114990234, 'learning_rate': 3.00578034682081e-06, 'epoch': 8.5}\n",
      "{'loss': 0.0074, 'grad_norm': 0.8706896305084229, 'learning_rate': 2.947976878612717e-06, 'epoch': 8.53}\n",
      "{'loss': 0.0067, 'grad_norm': 0.09892909228801727, 'learning_rate': 2.890173410404625e-06, 'epoch': 8.55}\n",
      "{'loss': 0.0206, 'grad_norm': 0.13276591897010803, 'learning_rate': 2.832369942196532e-06, 'epoch': 8.58}\n",
      "{'loss': 0.2463, 'grad_norm': 5.237922668457031, 'learning_rate': 2.774566473988439e-06, 'epoch': 8.61}\n",
      "{'loss': 0.1289, 'grad_norm': 0.11926829069852829, 'learning_rate': 2.716763005780347e-06, 'epoch': 8.64}\n",
      "{'loss': 0.0741, 'grad_norm': 0.11136215180158615, 'learning_rate': 2.658959537572254e-06, 'epoch': 8.67}\n",
      "{'loss': 0.3344, 'grad_norm': 4.491337299346924, 'learning_rate': 2.601156069364162e-06, 'epoch': 8.7}\n",
      "{'loss': 0.0256, 'grad_norm': 0.11949368566274643, 'learning_rate': 2.5433526011560696e-06, 'epoch': 8.73}\n",
      "{'loss': 0.0934, 'grad_norm': 0.09748748689889908, 'learning_rate': 2.485549132947977e-06, 'epoch': 8.76}\n",
      "{'loss': 0.0064, 'grad_norm': 0.0968523919582367, 'learning_rate': 2.4277456647398847e-06, 'epoch': 8.79}\n",
      "{'loss': 0.202, 'grad_norm': 0.21296276152133942, 'learning_rate': 2.369942196531792e-06, 'epoch': 8.82}\n",
      "{'loss': 0.0772, 'grad_norm': 0.10274172574281693, 'learning_rate': 2.3121387283236997e-06, 'epoch': 8.84}\n",
      "{'loss': 0.3047, 'grad_norm': 0.08680183440446854, 'learning_rate': 2.254335260115607e-06, 'epoch': 8.87}\n",
      "{'loss': 0.1222, 'grad_norm': 0.1406501978635788, 'learning_rate': 2.1965317919075148e-06, 'epoch': 8.9}\n",
      "{'loss': 0.0099, 'grad_norm': 22.8773136138916, 'learning_rate': 2.138728323699422e-06, 'epoch': 8.93}\n",
      "{'loss': 0.0607, 'grad_norm': 20.201709747314453, 'learning_rate': 2.08092485549133e-06, 'epoch': 8.96}\n",
      "{'loss': 0.071, 'grad_norm': 0.08232010900974274, 'learning_rate': 2.023121387283237e-06, 'epoch': 8.99}\n"
     ]
    },
    {
     "data": {
      "application/vnd.jupyter.widget-view+json": {
       "model_id": "0ce42ec3a40946e9b21a10580bfc6eaf",
       "version_major": 2,
       "version_minor": 0
      },
      "text/plain": [
       "  0%|          | 0/74 [00:00<?, ?it/s]"
      ]
     },
     "metadata": {},
     "output_type": "display_data"
    },
    {
     "name": "stdout",
     "output_type": "stream",
     "text": [
      "{'eval_loss': 0.6582999229431152, 'eval_accuracy': 0.8648648648648649, 'eval_runtime': 34.2446, 'eval_samples_per_second': 17.287, 'eval_steps_per_second': 2.161, 'epoch': 9.0}\n",
      "{'loss': 0.1537, 'grad_norm': 39.213775634765625, 'learning_rate': 1.965317919075145e-06, 'epoch': 9.02}\n",
      "{'loss': 0.0721, 'grad_norm': 0.11243782192468643, 'learning_rate': 1.907514450867052e-06, 'epoch': 9.05}\n",
      "{'loss': 0.008, 'grad_norm': 0.10910601913928986, 'learning_rate': 1.8497109826589595e-06, 'epoch': 9.08}\n",
      "{'loss': 0.1324, 'grad_norm': 0.18856866657733917, 'learning_rate': 1.791907514450867e-06, 'epoch': 9.1}\n",
      "{'loss': 0.0715, 'grad_norm': 0.15669940412044525, 'learning_rate': 1.7341040462427746e-06, 'epoch': 9.13}\n",
      "{'loss': 0.0067, 'grad_norm': 0.13039954006671906, 'learning_rate': 1.6763005780346821e-06, 'epoch': 9.16}\n",
      "{'loss': 0.073, 'grad_norm': 0.14076802134513855, 'learning_rate': 1.6184971098265898e-06, 'epoch': 9.19}\n",
      "{'loss': 0.2075, 'grad_norm': 0.11583279073238373, 'learning_rate': 1.5606936416184974e-06, 'epoch': 9.22}\n",
      "{'loss': 0.0672, 'grad_norm': 0.30137190222740173, 'learning_rate': 1.502890173410405e-06, 'epoch': 9.25}\n",
      "{'loss': 0.0721, 'grad_norm': 0.13959886133670807, 'learning_rate': 1.4450867052023124e-06, 'epoch': 9.28}\n",
      "{'loss': 0.1969, 'grad_norm': 2.9410884380340576, 'learning_rate': 1.3872832369942195e-06, 'epoch': 9.31}\n",
      "{'loss': 0.191, 'grad_norm': 0.251514196395874, 'learning_rate': 1.329479768786127e-06, 'epoch': 9.34}\n",
      "{'loss': 0.008, 'grad_norm': 0.267243355512619, 'learning_rate': 1.2716763005780348e-06, 'epoch': 9.36}\n",
      "{'loss': 0.1306, 'grad_norm': 2.581817388534546, 'learning_rate': 1.2138728323699423e-06, 'epoch': 9.39}\n",
      "{'loss': 0.0602, 'grad_norm': 0.09188055992126465, 'learning_rate': 1.1560693641618499e-06, 'epoch': 9.42}\n",
      "{'loss': 0.0596, 'grad_norm': 0.1023121103644371, 'learning_rate': 1.0982658959537574e-06, 'epoch': 9.45}\n",
      "{'loss': 0.1598, 'grad_norm': 0.15532414615154266, 'learning_rate': 1.040462427745665e-06, 'epoch': 9.48}\n",
      "{'loss': 0.1327, 'grad_norm': 0.1640554964542389, 'learning_rate': 9.826589595375724e-07, 'epoch': 9.51}\n",
      "{'loss': 0.0178, 'grad_norm': 2.781437635421753, 'learning_rate': 9.248554913294798e-07, 'epoch': 9.54}\n",
      "{'loss': 0.0751, 'grad_norm': 0.10203391313552856, 'learning_rate': 8.670520231213873e-07, 'epoch': 9.57}\n",
      "{'loss': 0.1591, 'grad_norm': 61.4200553894043, 'learning_rate': 8.092485549132949e-07, 'epoch': 9.6}\n",
      "{'loss': 0.066, 'grad_norm': 0.12378422170877457, 'learning_rate': 7.514450867052025e-07, 'epoch': 9.62}\n",
      "{'loss': 0.0064, 'grad_norm': 0.12126997858285904, 'learning_rate': 6.936416184971098e-07, 'epoch': 9.65}\n",
      "{'loss': 0.0946, 'grad_norm': 0.5772104263305664, 'learning_rate': 6.358381502890174e-07, 'epoch': 9.68}\n",
      "{'loss': 0.0075, 'grad_norm': 0.10101911425590515, 'learning_rate': 5.780346820809249e-07, 'epoch': 9.71}\n",
      "{'loss': 0.2029, 'grad_norm': 33.400787353515625, 'learning_rate': 5.202312138728325e-07, 'epoch': 9.74}\n",
      "{'loss': 0.0633, 'grad_norm': 0.09446856379508972, 'learning_rate': 4.624277456647399e-07, 'epoch': 9.77}\n",
      "{'loss': 0.0697, 'grad_norm': 0.0991428792476654, 'learning_rate': 4.0462427745664746e-07, 'epoch': 9.8}\n",
      "{'loss': 0.1327, 'grad_norm': 0.08995742350816727, 'learning_rate': 3.468208092485549e-07, 'epoch': 9.83}\n",
      "{'loss': 0.1324, 'grad_norm': 0.19848155975341797, 'learning_rate': 2.8901734104046247e-07, 'epoch': 9.86}\n",
      "{'loss': 0.006, 'grad_norm': 0.10876696556806564, 'learning_rate': 2.3121387283236994e-07, 'epoch': 9.88}\n",
      "{'loss': 0.1054, 'grad_norm': 74.01437377929688, 'learning_rate': 1.7341040462427744e-07, 'epoch': 9.91}\n",
      "{'loss': 0.2534, 'grad_norm': 54.12797546386719, 'learning_rate': 1.1560693641618497e-07, 'epoch': 9.94}\n",
      "{'loss': 0.0631, 'grad_norm': 0.08872111886739731, 'learning_rate': 5.7803468208092485e-08, 'epoch': 9.97}\n",
      "{'loss': 0.0341, 'grad_norm': 0.1155347004532814, 'learning_rate': 0.0, 'epoch': 10.0}\n"
     ]
    },
    {
     "data": {
      "application/vnd.jupyter.widget-view+json": {
       "model_id": "7bb28cc31c2446798e5a943efc0ce49d",
       "version_major": 2,
       "version_minor": 0
      },
      "text/plain": [
       "  0%|          | 0/74 [00:00<?, ?it/s]"
      ]
     },
     "metadata": {},
     "output_type": "display_data"
    },
    {
     "name": "stdout",
     "output_type": "stream",
     "text": [
      "{'eval_loss': 0.6659386157989502, 'eval_accuracy': 0.8648648648648649, 'eval_runtime': 34.4506, 'eval_samples_per_second': 17.184, 'eval_steps_per_second': 2.148, 'epoch': 10.0}\n",
      "{'train_runtime': 4215.4937, 'train_samples_per_second': 6.559, 'train_steps_per_second': 0.821, 'train_loss': 0.2585681182057785, 'epoch': 10.0}\n",
      "Model and processor saved to './fine_tuned_wav2vec2'\n"
     ]
    },
    {
     "data": {
      "application/vnd.jupyter.widget-view+json": {
       "model_id": "a3aa89028d1d4417a5c61ddc3a715e5c",
       "version_major": 2,
       "version_minor": 0
      },
      "text/plain": [
       "  0%|          | 0/75 [00:00<?, ?it/s]"
      ]
     },
     "metadata": {},
     "output_type": "display_data"
    },
    {
     "name": "stdout",
     "output_type": "stream",
     "text": [
      "Test Accuracy: 85.67%\n"
     ]
    }
   ],
   "source": [
    "from transformers import TrainingArguments, Trainer\n",
    "import torch\n",
    "import evaluate\n",
    "import numpy as np\n",
    "\n",
    "# Metric for evaluation\n",
    "metric = evaluate.load(\"accuracy\")\n",
    "\n",
    "# Function to compute evaluation metrics\n",
    "def compute_metrics(eval_pred):\n",
    "    predictions, labels = eval_pred\n",
    "    predictions = torch.argmax(torch.tensor(predictions), dim=1)\n",
    "    return metric.compute(predictions=predictions, references=labels)\n",
    "\n",
    "# Custom data collator for Wav2Vec2\n",
    "class DataCollatorForWav2Vec2:\n",
    "    def __init__(self, processor):\n",
    "        self.processor = processor\n",
    "\n",
    "    def __call__(self, features):\n",
    "        # Extract raw audio and labels\n",
    "        input_values = [feature[\"input_values\"] for feature in features]\n",
    "        labels = [feature[\"label\"] for feature in features]\n",
    "\n",
    "        # Ensure input_values are in the correct format (list of lists)\n",
    "        input_values = [np.array(iv).flatten().tolist() for iv in input_values]\n",
    "\n",
    "        # Pad input_values\n",
    "        batch = self.processor(\n",
    "            input_values,\n",
    "            sampling_rate=16000,\n",
    "            padding=True,  # Ensures dynamic padding\n",
    "            truncation=True,\n",
    "            max_length=16000 * 5,  # 5 seconds max\n",
    "            return_tensors=\"pt\"\n",
    "        )\n",
    "\n",
    "        # Convert labels to tensor\n",
    "        batch[\"labels\"] = torch.tensor(labels, dtype=torch.long)\n",
    "\n",
    "        return batch\n",
    "\n",
    "# Initialize collator\n",
    "data_collator = DataCollatorForWav2Vec2(processor)\n",
    "\n",
    "# Training arguments\n",
    "training_args = TrainingArguments(\n",
    "    output_dir=\"./results\",\n",
    "    evaluation_strategy=\"epoch\",\n",
    "    save_strategy=\"epoch\",\n",
    "    learning_rate=2e-5,\n",
    "    per_device_train_batch_size=8,\n",
    "    per_device_eval_batch_size=8,\n",
    "    num_train_epochs=10,\n",
    "    weight_decay=0.01,\n",
    "    logging_dir=\"./logs\",\n",
    "    logging_steps=10,\n",
    "    save_total_limit=2,\n",
    "    load_best_model_at_end=True,\n",
    "    metric_for_best_model=\"accuracy\",\n",
    "    report_to=\"none\"  # set to \"wandb\" or \"tensorboard\" if needed\n",
    ")\n",
    "\n",
    "# Trainer setup\n",
    "trainer = Trainer(\n",
    "    model=model,\n",
    "    args=training_args,\n",
    "    train_dataset=train_ds,\n",
    "    eval_dataset=val_ds,\n",
    "    tokenizer=processor,\n",
    "    data_collator=data_collator,\n",
    "    compute_metrics=compute_metrics\n",
    ")\n",
    "\n",
    "# Start training\n",
    "trainer.train()\n",
    "\n",
    "# Save the fine-tuned model and processor\n",
    "model.save_pretrained(\"./fine_tuned_wav2vec2\")\n",
    "processor.save_pretrained(\"./fine_tuned_wav2vec2\")\n",
    "\n",
    "print(\"Model and processor saved to './fine_tuned_wav2vec2'\")\n",
    "\n",
    "# ---- TESTING ----\n",
    "# Predict on test set\n",
    "test_results = trainer.predict(test_ds)\n",
    "\n",
    "# Get predictions and labels\n",
    "predictions = torch.argmax(torch.tensor(test_results.predictions), dim=1)\n",
    "labels = torch.tensor(test_results.label_ids)\n",
    "\n",
    "# Calculate test accuracy\n",
    "test_accuracy = metric.compute(predictions=predictions, references=labels)['accuracy']\n",
    "print(f\"Test Accuracy: {test_accuracy:.2%}\")\n"
   ]
  },
  {
   "cell_type": "code",
   "execution_count": 35,
   "metadata": {},
   "outputs": [
    {
     "data": {
      "application/vnd.jupyter.widget-view+json": {
       "model_id": "52f256b99be4464fba4b5b50f65d373d",
       "version_major": 2,
       "version_minor": 0
      },
      "text/plain": [
       "  0%|          | 0/75 [00:00<?, ?it/s]"
      ]
     },
     "metadata": {},
     "output_type": "display_data"
    },
    {
     "name": "stdout",
     "output_type": "stream",
     "text": [
      "Classification Report:\n",
      "              precision    recall  f1-score   support\n",
      "\n",
      "      crying       0.97      0.91      0.94        68\n",
      "   screaming       0.73      0.63      0.67       130\n",
      "      normal       0.88      0.92      0.90       395\n",
      "\n",
      "    accuracy                           0.86       593\n",
      "   macro avg       0.86      0.82      0.84       593\n",
      "weighted avg       0.85      0.86      0.85       593\n",
      "\n"
     ]
    },
    {
     "data": {
      "text/plain": [
       "<Figure size 800x600 with 0 Axes>"
      ]
     },
     "metadata": {},
     "output_type": "display_data"
    },
    {
     "data": {
      "image/png": "[encoded data removed]",
      "text/plain": [
       "<Figure size 640x480 with 2 Axes>"
      ]
     },
     "metadata": {},
     "output_type": "display_data"
    },
    {
     "data": {
      "image/png": "[encoded data removed]",
      "text/plain": [
       "<Figure size 1000x700 with 1 Axes>"
      ]
     },
     "metadata": {},
     "output_type": "display_data"
    },
    {
     "name": "stdout",
     "output_type": "stream",
     "text": [
      "Overall ROC AUC Score: 0.94\n"
     ]
    }
   ],
   "source": [
    "from sklearn.metrics import (classification_report, roc_auc_score, roc_curve, \n",
    "                             auc, confusion_matrix, ConfusionMatrixDisplay)\n",
    "import matplotlib.pyplot as plt\n",
    "import torch\n",
    "import numpy as np\n",
    "\n",
    "# Predict on test set\n",
    "predictions = trainer.predict(test_ds)\n",
    "pred_probs = torch.tensor(predictions.predictions)\n",
    "preds = torch.argmax(pred_probs, dim=1)\n",
    "\n",
    "# Ensure labels are numpy arrays\n",
    "labels = np.array(test_ds['label'])\n",
    "pred_probs = pred_probs.detach().cpu().numpy()\n",
    "\n",
    "# Classification report\n",
    "print(\"Classification Report:\")\n",
    "print(classification_report(labels, preds.numpy(), target_names=['crying', 'screaming', 'normal']))\n",
    "\n",
    "# Compute confusion matrix\n",
    "conf_matrix = confusion_matrix(labels, preds.numpy())\n",
    "disp = ConfusionMatrixDisplay(confusion_matrix=conf_matrix, display_labels=['crying', 'screaming', 'normal'])\n",
    "\n",
    "# Plot confusion matrix\n",
    "plt.figure(figsize=(8, 6))\n",
    "disp.plot(cmap=plt.cm.Blues, values_format='d')\n",
    "plt.title('Confusion Matrix')\n",
    "plt.show()\n",
    "\n",
    "# ROC AUC Curve\n",
    "plt.figure(figsize=(10, 7))\n",
    "for i, label in enumerate(['crying', 'screaming', 'normal']):\n",
    "    binary_labels = (labels == i).astype(int)\n",
    "    fpr, tpr, _ = roc_curve(binary_labels, pred_probs[:, i])\n",
    "    roc_auc = auc(fpr, tpr)\n",
    "    plt.plot(fpr, tpr, label=f'{label} (AUC = {roc_auc:.2f})')\n",
    "\n",
    "plt.plot([0, 1], [0, 1], 'k--')  # Diagonal line for random chance\n",
    "plt.xlabel('False Positive Rate')\n",
    "plt.ylabel('True Positive Rate')\n",
    "plt.title('ROC AUC Curves')\n",
    "plt.legend(loc='lower right')\n",
    "plt.grid(True)\n",
    "plt.show()\n",
    "\n",
    "# Calculate overall ROC AUC score (one-vs-rest)\n",
    "overall_roc_auc = roc_auc_score(np.eye(len(set(labels)))[labels], pred_probs, multi_class='ovr')\n",
    "print(f\"Overall ROC AUC Score: {overall_roc_auc:.2f}\")\n",
    "\n"
   ]
  },
  {
   "cell_type": "code",
   "execution_count": 43,
   "metadata": {},
   "outputs": [
    {
     "name": "stdout",
     "output_type": "stream",
     "text": [
      "Probability of crying: 0.0147\n",
      "Probability of screaming: 0.9602\n",
      "Probability of normal: 0.0251\n",
      "The predicted label for the audio file is: screaming\n"
     ]
    }
   ],
   "source": [
    "import librosa\n",
    "import torch\n",
    "from transformers import AutoProcessor, AutoModelForAudioClassification\n",
    "import numpy as np\n",
    "import torch.nn.functional as F  # For softmax\n",
    "\n",
    "# Load the fine-tuned model and processor\n",
    "model = AutoModelForAudioClassification.from_pretrained(\"./fine_tuned_wav2vec2\")\n",
    "processor = AutoProcessor.from_pretrained(\"./fine_tuned_wav2vec2\")\n",
    "\n",
    "# Mapping for labels\n",
    "label_mapping = {0: 'crying', 1: 'screaming', 2: 'normal'}\n",
    "\n",
    "# Function to predict the label of a single audio file\n",
    "def predict_audio_label(audio_path):\n",
    "    # Load audio file using librosa\n",
    "    audio, sr = librosa.load(audio_path, sr=16000)\n",
    "\n",
    "    # Preprocess the audio file (removed truncation argument)\n",
    "    inputs = processor(audio, sampling_rate=16000, return_tensors=\"pt\", padding=True)\n",
    "    \n",
    "    # Perform the prediction\n",
    "    with torch.no_grad():\n",
    "        logits = model(**inputs).logits\n",
    "\n",
    "    # Convert logits to probabilities using softmax\n",
    "    probs = F.softmax(logits, dim=-1)\n",
    "\n",
    "    # Get the predicted label\n",
    "    predicted_class_id = torch.argmax(logits, dim=-1).item()\n",
    "    predicted_label = label_mapping[predicted_class_id]\n",
    "    \n",
    "    # Print the probabilities for all classes\n",
    "    for i, label in label_mapping.items():\n",
    "        print(f\"Probability of {label}: {probs[0][i].item():.4f}\")\n",
    "    \n",
    "    return predicted_label\n",
    "\n",
    "# Test with a single audio file\n",
    "audio_path = \"/home/aayushjeevan/Desktop/FRONTERA/archive3/Screaming/0kQANiakiH0_out.wav\"\n",
    "predicted_label = predict_audio_label(audio_path)\n",
    "\n",
    "print(f\"The predicted label for the audio file is: {predicted_label}\")\n"
   ]
  }
 ],
 "metadata": {
  "kernelspec": {
   "display_name": "base",
   "language": "python",
   "name": "python3"
  },
  "language_info": {
   "codemirror_mode": {
    "name": "ipython",
    "version": 3
   },
   "file_extension": ".py",
   "mimetype": "text/x-python",
   "name": "python",
   "nbconvert_exporter": "python",
   "pygments_lexer": "ipython3",
   "version": "3.12.4"
  }
 },
 "nbformat": 4,
 "nbformat_minor": 2
}
